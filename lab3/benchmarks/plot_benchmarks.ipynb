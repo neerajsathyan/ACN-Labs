{
 "cells": [
  {
   "cell_type": "code",
   "execution_count": 12,
   "metadata": {},
   "outputs": [
    {
     "name": "stdout",
     "output_type": "stream",
     "text": [
      "120\n"
     ]
    },
    {
     "data": {
      "image/png": "[encoded data removed]",
      "text/plain": [
       "<Figure size 432x288 with 1 Axes>"
      ]
     },
     "metadata": {
      "needs_background": "light"
     },
     "output_type": "display_data"
    }
   ],
   "source": [
    "import matplotlib.pyplot as plt\n",
    "import random\n",
    "import numpy as np\n",
    "from collections import defaultdict\n",
    "\n",
    "def count_occurence(values, n):\n",
    "    \n",
    "    unique = np.unique(values)\n",
    "\n",
    "    cum_res = {}\n",
    "    for uni in unique:\n",
    "        count = values.count(uni)\n",
    "        cum_res[uni] = count / n\n",
    "        \n",
    "    return cum_res\n",
    "\n",
    "# Shortest path routing (ping test with -c 10 and with some accidentally double server pair pings tested)\n",
    "# AVGs = [0.801, 2.327, 2.23, 3.316, 2.39, 2.828, 3.255, 2.83, 2.527, 2.599, 3.223, 2.832, 2.234, 3.677, 2.315, 0.088,\n",
    "#         1.047, 0.724, 2.7, 1.411, 1.289, 1.205, 1.371, 1.563, 1.271, 2.364, 1.447, 1.41, 1.321, 1.228, 0.11, 0.091, \n",
    "#         1.052, 1.433, 1.115, 1.595, 1.509, 1.507, 1.347, 1.322, 1.343, 1.442, 1.844, 1.408, 1.91, 0.07, 0.078, 0.065, \n",
    "#         1.34, 1.526, 1.173, 1.16, 1.286, 1.255, 1.412, 1.297, 1.416, 1.358, 1.542, 1.433, 0.097, 0.156, 0.113, 0.1, \n",
    "#         0.779, 1.137, 1.457, 1.524, 1.418, 1.351, 1.46, 1.575, 1.382, 1.202, 1.497, 0.123, 0.132, 0.121, 0.095, 0.083, \n",
    "#         1.079, 0.874, 1.697, 1.399, 1.305, 1.405, 1.249, 1.221, 1.354, 1.285, 0.098, 0.137, 0.13, 0.125, 0.116, 0.091, \n",
    "#         0.479, 1.361, 1.3, 1.338, 1.358, 1.533, 1.347, 1.441, 1.303, 0.078, 0.09, 0.137, 0.119, 0.093, 0.076, 0.068, \n",
    "#         1.143, 1.235, 1.406, 1.307, 1.146, 1.505, 1.435, 1.313, 0.141, 0.086, 0.104, 0.111, 0.108, 0.085, 0.129, 0.16, \n",
    "#         0.463, 1.042, 0.881, 1.573, 2.386, 1.775, 1.443, 0.134, 0.1, 0.14, 0.103, 0.092, 0.07, 0.09, 0.111, 0.07, 1.13, \n",
    "#         1.029, 1.595, 1.573, 1.23, 1.448, 0.078, 0.162, 0.129, 0.164, 0.139, 0.139, 0.137, 0.101, 0.115, 0.069, 0.69, \n",
    "#         1.43, 1.331, 1.488, 1.472, 0.15, 0.221, 0.103, 0.229, 0.121, 0.117, 0.131, 0.099, 0.111, 0.071, 0.06, 1.217, \n",
    "#         1.329, 1.416, 1.551, 0.127, 0.109, 0.105, 0.137, 0.114, 0.077, 0.101, 0.099, 0.104, 0.111, 0.114, 0.113, 0.955, \n",
    "#         0.995, 1.103, 0.077, 0.087, 0.103, 0.123, 0.125, 0.107, 0.083, 0.196, 0.122, 0.191, 0.083, 0.095, 0.054, 1.08, \n",
    "#         0.942, 0.096, 0.092, 0.193, 0.137, 0.135, 0.142, 0.103, 0.161, 0.126, 0.086, 0.09, 0.102, 0.109, 0.087, 0.388, \n",
    "#         0.125, 0.114, 0.109, 0.131, 0.076, 0.115, 0.114, 0.14, 0.119, 0.138, 0.117, 0.082, 0.071, 0.098, 0.068]\n",
    "\n",
    "# Shortest path routing (ping test with -c 10 and all server pair pings tested)\n",
    "AVGs = [0.57, 1.192, 1.365, 1.771, 1.318, 1.738, 1.674, 1.479, 1.292, 1.652, 1.35, 1.661, 1.299, 1.36, 1.378, 0.651, \n",
    "        0.569, 0.743, 0.727, 0.718, 0.718, 0.759, 0.775, 0.901, 0.763, 0.719, 0.847, 0.705, 0.605, 0.393, 0.824, 0.904, \n",
    "        0.687, 0.789, 0.705, 0.915, 0.767, 0.871, 0.722, 0.643, 0.773, 0.869, 0.762, 0.543, 0.543, 0.815, 0.752, 0.797, \n",
    "        0.716, 0.885, 0.69, 0.643, 0.635, 0.791, 0.386, 0.71, 0.703, 0.756, 0.806, 0.669, 0.723, 0.799, 0.836, 0.625, \n",
    "        0.627, 0.418, 0.493, 0.774, 0.842, 0.808, 0.829, 0.669, 0.879, 0.784, 0.789, 0.396, 0.709, 0.66, 0.65, 0.704, \n",
    "        0.749, 0.734, 0.746, 0.726, 0.828, 0.585, 0.76, 0.839, 0.75, 0.774, 0.633, 0.71, 0.32, 0.627, 0.627, 0.809, \n",
    "        0.75, 0.926, 0.806, 0.416, 0.616, 0.734, 0.735, 0.867, 0.695, 0.406, 0.868, 0.808, 0.761, 0.63, 0.857, 0.796, \n",
    "        0.75, 0.855, 0.463, 0.661, 0.604, 0.701, 0.644, 0.28]\n",
    "\n",
    "\n",
    "\n",
    "# Enter AVGs list for two-level routing\n",
    "# AVGs = []\n",
    "\n",
    "n = len(AVGs)\n",
    "print(n)\n",
    "width = 0.01\n",
    "\n",
    "round_AVGs = [round(AVG, 2) for AVG in AVGs]\n",
    "# round_AVGs = [AVG for AVG in AVGs]\n",
    "cum_AVGs = count_occurence(round_AVGs, n)\n",
    "\n",
    "\n",
    "plt.bar(cum_AVGs.keys(), cum_AVGs.values(), width=width, label='shortest path')\n",
    "# plt.bar(cum_AVGs2.keys(), cum_AVGs2.values(), width=width, label='shortest path')\n",
    "\n",
    "# plt.title('Average ping distribution')\n",
    "plt.xlabel('Average ping in ms')\n",
    "plt.ylabel('Fraction server pairs')\n",
    "\n",
    "# plt.legend()\n",
    "plt.savefig('Average_ping_distribution')\n",
    "plt.show()"
   ]
  },
  {
   "cell_type": "code",
   "execution_count": 17,
   "metadata": {},
   "outputs": [
    {
     "data": {
      "image/png": "[encoded data removed]",
      "text/plain": [
       "<Figure size 432x288 with 1 Axes>"
      ]
     },
     "metadata": {
      "needs_background": "light"
     },
     "output_type": "display_data"
    }
   ],
   "source": [
    "\n",
    "IPERFs = [70.0, 58.9, 54.3, 48.3, 47.6, 48.1, 46.8, 53.1, 51, 51.8, 52.6, 51.8, \n",
    "          50.4, 48.1, 49.1, 55, 54.5, 47.8, 47.1, 52.5, 48.9, 50.4, 52.1, 49.2,\n",
    "          49.8, 52.8, 52.3, 52.5, 53.3, 67.9, 50.2 , 51.6, 50.9, 51.6, 61.5, 50.3,\n",
    "          49.2, 49.3, 47.7, 49.2, 50.1, 49.9, 48.1, 49.5, 46.8, 50.9, 48.1, 48.9,\n",
    "          47.4, 50.2, 47.5, 47.2, 50.8, 47.5, 61.1, 58.6, 57.9, 48.1, 50.9, 50.7, \n",
    "          50.8, 51.7, 49.2, 50.3, 48.5, 55.1, 55.3, 50.2, 48.1, 50.5, 49.4, 50.3, \n",
    "          50.7, 46.4, 49.9, 70.5, 52.5, 52.5, 52.5, 52.4, 52.9, 52.9, 52.6, 50.6,\n",
    "          50.4, 51, 50.5, 51.5, 51.5, 50.9, 51.1, 51.4, 65, 57.1, 56.8, 52, 49.2, \n",
    "          51.9, 51, 57.9, 57.5, 51.1, 50.6, 47.6, 50.9, 69.2, 50.5, 50.6, 50.7, \n",
    "          50.2, 52, 50.6, 51.6, 51.5, 61.7, 50.3, 50.9, 50.1, 52.5]\n",
    "         # Enter AVGs list for two-level routing\n",
    "# AVGs = []\n",
    "\n",
    "n = len(IPERFs)\n",
    "# print(n)\n",
    "width = 0.1\n",
    "\n",
    "round_IPERFs = [IPERF for IPERF in IPERFs]\n",
    "\n",
    "unique = np.unique(round_IPERFs)\n",
    "\n",
    "cum_IPERFs = {}\n",
    "for uni in unique:\n",
    "    count = round_IPERFs.count(uni)\n",
    "    cum_IPERFs[uni] = count\n",
    "# round_AVGs = [AVG for AVG in AVGs]\n",
    "# cum_IPERFs = count_occurence(round_IPERFs, 0.01)\n",
    "\n",
    "plt.bar(cum_IPERFs.keys(), cum_IPERFs.values(), width=width, label='shortest path')\n",
    "# plt.bar(cum_AVGs2.keys(), cum_AVGs2.values(), width=width, label='shortest path')\n",
    "\n",
    "# plt.title('Average ping distribution')\n",
    "plt.xlabel('Throughput in Gbits/sec')\n",
    "plt.ylabel('Number of server pairs')\n",
    "\n",
    "# plt.legend()\n",
    "plt.savefig('Average_iperf_distribution')\n",
    "plt.show() \n",
    "\n"
   ]
  }
 ],
 "metadata": {
  "kernelspec": {
   "display_name": "Python 3",
   "language": "python",
   "name": "python3"
  },
  "language_info": {
   "codemirror_mode": {
    "name": "ipython",
    "version": 3
   },
   "file_extension": ".py",
   "mimetype": "text/x-python",
   "name": "python",
   "nbconvert_exporter": "python",
   "pygments_lexer": "ipython3",
   "version": "3.9.0"
  }
 },
 "nbformat": 4,
 "nbformat_minor": 4
}
